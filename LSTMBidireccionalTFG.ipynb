{
  "nbformat": 4,
  "nbformat_minor": 0,
  "metadata": {
    "colab": {
      "provenance": [],
      "toc_visible": true
    },
    "kernelspec": {
      "name": "python3",
      "display_name": "Python 3"
    },
    "language_info": {
      "name": "python"
    }
  },
  "cells": [
    {
      "cell_type": "code",
      "metadata": {
        "id": "3Q_X2ViQDdd8"
      },
      "source": [
        "import numpy\n",
        "import matplotlib.pyplot as plt\n",
        "from pandas import read_csv\n",
        "import math\n",
        "from tensorflow import keras\n",
        "from keras.models import Sequential\n",
        "from keras.layers import Dense\n",
        "from keras.layers import LSTM\n",
        "from keras.layers import Embedding\n",
        "from keras.layers import Bidirectional\n",
        "from sklearn.preprocessing import MinMaxScaler\n",
        "from sklearn.metrics import mean_squared_error, r2_score, mean_absolute_error\n",
        "from array import array\n"
      ],
      "execution_count": null,
      "outputs": []
    },
    {
      "cell_type": "code",
      "metadata": {
        "id": "EnfmH7GmHEt0",
        "colab": {
          "base_uri": "https://localhost:8080/"
        },
        "outputId": "e162f825-1b7c-4efa-cd80-133171891137"
      },
      "source": [
        "# convert an array of values into a dataset matrix\n",
        "def create_dataset(dataset, look_back=1):\n",
        "\tdataX, dataY = [], []\n",
        "\tfor i in range(len(dataset)-look_back-1):\n",
        "\t\ta = dataset[i:(i+look_back), 0]\n",
        "\t\tdataX.append(a)\n",
        "\t\tdataY.append(dataset[i + look_back, 0])\n",
        "\treturn numpy.array(dataX), numpy.array(dataY)\n",
        " \n",
        "# fix random seed for reproducibility\n",
        "numpy.random.seed(7)\n",
        "# load the dataset\n",
        "dataframe = read_csv('1enero.csv', usecols=[5], engine='python')\n",
        "print(dataframe)\n",
        "dataset = dataframe.values\n",
        "dataset = dataset.astype('float32')\n"
      ],
      "execution_count": null,
      "outputs": [
        {
          "output_type": "stream",
          "text": [
            "      Valor\n",
            "0      66.9\n",
            "1      63.8\n",
            "2      64.5\n",
            "3      62.1\n",
            "4      65.9\n",
            "...     ...\n",
            "1435   64.7\n",
            "1436   65.3\n",
            "1437   63.1\n",
            "1438   66.3\n",
            "1439   65.6\n",
            "\n",
            "[1440 rows x 1 columns]\n"
          ],
          "name": "stdout"
        }
      ]
    },
    {
      "cell_type": "code",
      "metadata": {
        "colab": {
          "base_uri": "https://localhost:8080/"
        },
        "id": "TJ1qTSwRjIa_",
        "outputId": "4c6afe1f-8032-46e3-cb72-ba9766d00898"
      },
      "source": [
        "# normalize the dataset\n",
        "scaler = MinMaxScaler(feature_range=(0, 1))\n",
        "dataset = scaler.fit_transform(dataset)\n",
        "# split into train and test sets\n",
        "train_size = int(len(dataset) * 0.97)\n",
        "test_size = len(dataset) - train_size\n",
        "train, test = dataset[0:train_size,:], dataset[train_size:len(dataset),:]\n",
        "# reshape into X=t and Y=t+1\n",
        "look_back = 1\n",
        "trainX, trainY = create_dataset(train, look_back)\n",
        "testX, testY = create_dataset(test, look_back)\n",
        "# reshape input to be [samples, time steps, features]\n",
        "trainX = numpy.reshape(trainX, (trainX.shape[0], 1, trainX.shape[1]))\n",
        "testX = numpy.reshape(testX, (testX.shape[0], 1, testX.shape[1]))\n",
        "print(\"Done\")"
      ],
      "execution_count": null,
      "outputs": [
        {
          "output_type": "stream",
          "text": [
            "Done\n"
          ],
          "name": "stdout"
        }
      ]
    },
    {
      "cell_type": "code",
      "metadata": {
        "colab": {
          "base_uri": "https://localhost:8080/"
        },
        "id": "VZbDUW4VDrTS",
        "outputId": "fe6d0462-fd94-46d4-80f2-f958f2c1cf05"
      },
      "source": [
        "\n",
        "model = Sequential()\n",
        "model.add(Bidirectional(LSTM(20, input_shape=(1, look_back)), merge_mode='mul'))\n",
        "model.add(Dense(1, activation='sigmoid'))\n",
        "model.compile(loss='mean_squared_error', optimizer='adam', metrics='accuracy')\n",
        "model.fit(trainX, trainY, epochs=100, batch_size=1, verbose=1)\n",
        "# make predictions\n",
        "trainPredict = model.predict(trainX)\n",
        "testPredict = model.predict(testX)\n",
        "# invert predictions\n",
        "trainPredict = scaler.inverse_transform(trainPredict)\n",
        "trainY = scaler.inverse_transform([trainY])\n",
        "testPredict = scaler.inverse_transform(testPredict)\n",
        "testY = scaler.inverse_transform([testY])\n",
        "\n"
      ],
      "execution_count": null,
      "outputs": [
        {
          "output_type": "stream",
          "text": [
            "Epoch 1/100\n",
            "1394/1394 [==============================] - 7s 2ms/step - loss: 0.0144 - accuracy: 2.9207e-04\n",
            "Epoch 2/100\n",
            "1394/1394 [==============================] - 3s 2ms/step - loss: 0.0120 - accuracy: 2.3140e-04\n",
            "Epoch 3/100\n",
            "1394/1394 [==============================] - 3s 2ms/step - loss: 0.0129 - accuracy: 0.0035\n",
            "Epoch 4/100\n",
            "1394/1394 [==============================] - 3s 2ms/step - loss: 0.0113 - accuracy: 0.0016\n",
            "Epoch 5/100\n",
            "1394/1394 [==============================] - 3s 2ms/step - loss: 0.0107 - accuracy: 0.0019\n",
            "Epoch 6/100\n",
            "1394/1394 [==============================] - 3s 2ms/step - loss: 0.0114 - accuracy: 0.0014\n",
            "Epoch 7/100\n",
            "1394/1394 [==============================] - 3s 2ms/step - loss: 0.0102 - accuracy: 0.0021\n",
            "Epoch 8/100\n",
            "1394/1394 [==============================] - 3s 2ms/step - loss: 0.0100 - accuracy: 4.0949e-04\n",
            "Epoch 9/100\n",
            "1394/1394 [==============================] - 3s 2ms/step - loss: 0.0113 - accuracy: 0.0010\n",
            "Epoch 10/100\n",
            "1394/1394 [==============================] - 3s 2ms/step - loss: 0.0104 - accuracy: 0.0024\n",
            "Epoch 11/100\n",
            "1394/1394 [==============================] - 3s 2ms/step - loss: 0.0113 - accuracy: 0.0017\n",
            "Epoch 12/100\n",
            "1394/1394 [==============================] - 3s 2ms/step - loss: 0.0102 - accuracy: 7.9571e-04\n",
            "Epoch 13/100\n",
            "1394/1394 [==============================] - 3s 2ms/step - loss: 0.0107 - accuracy: 8.1172e-04\n",
            "Epoch 14/100\n",
            "1394/1394 [==============================] - 3s 2ms/step - loss: 0.0102 - accuracy: 0.0011\n",
            "Epoch 15/100\n",
            "1394/1394 [==============================] - 3s 2ms/step - loss: 0.0101 - accuracy: 5.8728e-04\n",
            "Epoch 16/100\n",
            "1394/1394 [==============================] - 3s 2ms/step - loss: 0.0102 - accuracy: 0.0012\n",
            "Epoch 17/100\n",
            "1394/1394 [==============================] - 3s 2ms/step - loss: 0.0104 - accuracy: 0.0016\n",
            "Epoch 18/100\n",
            "1394/1394 [==============================] - 3s 2ms/step - loss: 0.0105 - accuracy: 0.0015\n",
            "Epoch 19/100\n",
            "1394/1394 [==============================] - 3s 2ms/step - loss: 0.0099 - accuracy: 2.3427e-04\n",
            "Epoch 20/100\n",
            "1394/1394 [==============================] - 3s 2ms/step - loss: 0.0108 - accuracy: 0.0019\n",
            "Epoch 21/100\n",
            "1394/1394 [==============================] - 3s 2ms/step - loss: 0.0099 - accuracy: 0.0019\n",
            "Epoch 22/100\n",
            "1394/1394 [==============================] - 3s 2ms/step - loss: 0.0122 - accuracy: 0.0030\n",
            "Epoch 23/100\n",
            "1394/1394 [==============================] - 3s 2ms/step - loss: 0.0118 - accuracy: 4.3834e-04\n",
            "Epoch 24/100\n",
            "1394/1394 [==============================] - 3s 2ms/step - loss: 0.0106 - accuracy: 0.0012\n",
            "Epoch 25/100\n",
            "1394/1394 [==============================] - 3s 2ms/step - loss: 0.0111 - accuracy: 0.0011\n",
            "Epoch 26/100\n",
            "1394/1394 [==============================] - 3s 2ms/step - loss: 0.0115 - accuracy: 9.9953e-04\n",
            "Epoch 27/100\n",
            "1394/1394 [==============================] - 3s 2ms/step - loss: 0.0099 - accuracy: 0.0014\n",
            "Epoch 28/100\n",
            "1394/1394 [==============================] - 3s 2ms/step - loss: 0.0100 - accuracy: 5.9485e-04\n",
            "Epoch 29/100\n",
            "1394/1394 [==============================] - 3s 2ms/step - loss: 0.0116 - accuracy: 0.0018\n",
            "Epoch 30/100\n",
            "1394/1394 [==============================] - 3s 2ms/step - loss: 0.0110 - accuracy: 0.0035\n",
            "Epoch 31/100\n",
            "1394/1394 [==============================] - 3s 2ms/step - loss: 0.0103 - accuracy: 0.0010\n",
            "Epoch 32/100\n",
            "1394/1394 [==============================] - 3s 2ms/step - loss: 0.0108 - accuracy: 0.0028\n",
            "Epoch 33/100\n",
            "1394/1394 [==============================] - 3s 2ms/step - loss: 0.0100 - accuracy: 3.6228e-04\n",
            "Epoch 34/100\n",
            "1394/1394 [==============================] - 3s 2ms/step - loss: 0.0108 - accuracy: 0.0017\n",
            "Epoch 35/100\n",
            "1394/1394 [==============================] - 3s 2ms/step - loss: 0.0103 - accuracy: 9.3932e-04\n",
            "Epoch 36/100\n",
            "1394/1394 [==============================] - 3s 2ms/step - loss: 0.0098 - accuracy: 5.6498e-04\n",
            "Epoch 37/100\n",
            "1394/1394 [==============================] - 3s 2ms/step - loss: 0.0092 - accuracy: 4.8072e-04\n",
            "Epoch 38/100\n",
            "1394/1394 [==============================] - 3s 2ms/step - loss: 0.0115 - accuracy: 0.0019\n",
            "Epoch 39/100\n",
            "1394/1394 [==============================] - 3s 2ms/step - loss: 0.0096 - accuracy: 7.0265e-04\n",
            "Epoch 40/100\n",
            "1394/1394 [==============================] - 3s 2ms/step - loss: 0.0101 - accuracy: 0.0016\n",
            "Epoch 41/100\n",
            "1394/1394 [==============================] - 3s 2ms/step - loss: 0.0111 - accuracy: 0.0037\n",
            "Epoch 42/100\n",
            "1394/1394 [==============================] - 3s 2ms/step - loss: 0.0095 - accuracy: 0.0010\n",
            "Epoch 43/100\n",
            "1394/1394 [==============================] - 3s 2ms/step - loss: 0.0101 - accuracy: 0.0021\n",
            "Epoch 44/100\n",
            "1394/1394 [==============================] - 3s 2ms/step - loss: 0.0113 - accuracy: 0.0025\n",
            "Epoch 45/100\n",
            "1394/1394 [==============================] - 3s 2ms/step - loss: 0.0098 - accuracy: 4.6816e-04\n",
            "Epoch 46/100\n",
            "1394/1394 [==============================] - 3s 2ms/step - loss: 0.0106 - accuracy: 9.8548e-04\n",
            "Epoch 47/100\n",
            "1394/1394 [==============================] - 3s 2ms/step - loss: 0.0105 - accuracy: 0.0044\n",
            "Epoch 48/100\n",
            "1394/1394 [==============================] - 3s 2ms/step - loss: 0.0101 - accuracy: 0.0025\n",
            "Epoch 49/100\n",
            "1394/1394 [==============================] - 3s 2ms/step - loss: 0.0104 - accuracy: 2.8468e-04\n",
            "Epoch 50/100\n",
            "1394/1394 [==============================] - 3s 2ms/step - loss: 0.0101 - accuracy: 7.0442e-04\n",
            "Epoch 51/100\n",
            "1394/1394 [==============================] - 3s 2ms/step - loss: 0.0105 - accuracy: 1.5386e-04\n",
            "Epoch 52/100\n",
            "1394/1394 [==============================] - 3s 2ms/step - loss: 0.0116 - accuracy: 0.0018\n",
            "Epoch 53/100\n",
            "1394/1394 [==============================] - 3s 2ms/step - loss: 0.0100 - accuracy: 6.5741e-04\n",
            "Epoch 54/100\n",
            "1394/1394 [==============================] - 3s 2ms/step - loss: 0.0098 - accuracy: 2.1237e-04\n",
            "Epoch 55/100\n",
            "1394/1394 [==============================] - 3s 2ms/step - loss: 0.0102 - accuracy: 0.0013\n",
            "Epoch 56/100\n",
            "1394/1394 [==============================] - 3s 2ms/step - loss: 0.0109 - accuracy: 0.0011\n",
            "Epoch 57/100\n",
            "1394/1394 [==============================] - 3s 2ms/step - loss: 0.0113 - accuracy: 0.0027\n",
            "Epoch 58/100\n",
            "1394/1394 [==============================] - 3s 2ms/step - loss: 0.0111 - accuracy: 0.0017\n",
            "Epoch 59/100\n",
            "1394/1394 [==============================] - 3s 2ms/step - loss: 0.0097 - accuracy: 0.0027\n",
            "Epoch 60/100\n",
            "1394/1394 [==============================] - 3s 2ms/step - loss: 0.0104 - accuracy: 0.0030\n",
            "Epoch 61/100\n",
            "1394/1394 [==============================] - 3s 2ms/step - loss: 0.0101 - accuracy: 0.0026\n",
            "Epoch 62/100\n",
            "1394/1394 [==============================] - 3s 2ms/step - loss: 0.0109 - accuracy: 6.8365e-04\n",
            "Epoch 63/100\n",
            "1394/1394 [==============================] - 3s 2ms/step - loss: 0.0124 - accuracy: 0.0029\n",
            "Epoch 64/100\n",
            "1394/1394 [==============================] - 3s 2ms/step - loss: 0.0102 - accuracy: 0.0015\n",
            "Epoch 65/100\n",
            "1394/1394 [==============================] - 3s 2ms/step - loss: 0.0108 - accuracy: 2.9474e-04\n",
            "Epoch 66/100\n",
            "1394/1394 [==============================] - 4s 3ms/step - loss: 0.0106 - accuracy: 0.0012\n",
            "Epoch 67/100\n",
            "1394/1394 [==============================] - 5s 3ms/step - loss: 0.0108 - accuracy: 5.9019e-04\n",
            "Epoch 68/100\n",
            "1394/1394 [==============================] - 3s 2ms/step - loss: 0.0110 - accuracy: 0.0012\n",
            "Epoch 69/100\n",
            "1394/1394 [==============================] - 3s 2ms/step - loss: 0.0102 - accuracy: 0.0013\n",
            "Epoch 70/100\n",
            "1394/1394 [==============================] - 3s 2ms/step - loss: 0.0105 - accuracy: 0.0031\n",
            "Epoch 71/100\n",
            "1394/1394 [==============================] - 3s 2ms/step - loss: 0.0107 - accuracy: 0.0016\n",
            "Epoch 72/100\n",
            "1394/1394 [==============================] - 3s 2ms/step - loss: 0.0104 - accuracy: 0.0015\n",
            "Epoch 73/100\n",
            "1394/1394 [==============================] - 3s 2ms/step - loss: 0.0099 - accuracy: 0.0018\n",
            "Epoch 74/100\n",
            "1394/1394 [==============================] - 3s 2ms/step - loss: 0.0104 - accuracy: 0.0014\n",
            "Epoch 75/100\n",
            "1394/1394 [==============================] - 3s 2ms/step - loss: 0.0105 - accuracy: 6.3848e-05\n",
            "Epoch 76/100\n",
            "1394/1394 [==============================] - 3s 2ms/step - loss: 0.0098 - accuracy: 9.4027e-04\n",
            "Epoch 77/100\n",
            "1394/1394 [==============================] - 3s 2ms/step - loss: 0.0107 - accuracy: 0.0036\n",
            "Epoch 78/100\n",
            "1394/1394 [==============================] - 3s 2ms/step - loss: 0.0110 - accuracy: 0.0031\n",
            "Epoch 79/100\n",
            "1394/1394 [==============================] - 3s 2ms/step - loss: 0.0103 - accuracy: 0.0018\n",
            "Epoch 80/100\n",
            "1394/1394 [==============================] - 3s 2ms/step - loss: 0.0108 - accuracy: 9.0219e-04\n",
            "Epoch 81/100\n",
            "1394/1394 [==============================] - 3s 2ms/step - loss: 0.0109 - accuracy: 7.5671e-04\n",
            "Epoch 82/100\n",
            "1394/1394 [==============================] - 3s 2ms/step - loss: 0.0100 - accuracy: 8.1379e-04\n",
            "Epoch 83/100\n",
            "1394/1394 [==============================] - 3s 2ms/step - loss: 0.0099 - accuracy: 7.6216e-04\n",
            "Epoch 84/100\n",
            "1394/1394 [==============================] - 3s 2ms/step - loss: 0.0110 - accuracy: 5.6508e-04\n",
            "Epoch 85/100\n",
            "1394/1394 [==============================] - 3s 2ms/step - loss: 0.0106 - accuracy: 6.6153e-04\n",
            "Epoch 86/100\n",
            "1394/1394 [==============================] - 3s 2ms/step - loss: 0.0109 - accuracy: 0.0037\n",
            "Epoch 87/100\n",
            "1394/1394 [==============================] - 3s 2ms/step - loss: 0.0106 - accuracy: 0.0037\n",
            "Epoch 88/100\n",
            "1394/1394 [==============================] - 3s 2ms/step - loss: 0.0099 - accuracy: 9.7193e-04\n",
            "Epoch 89/100\n",
            "1394/1394 [==============================] - 3s 2ms/step - loss: 0.0096 - accuracy: 2.7344e-04\n",
            "Epoch 90/100\n",
            "1394/1394 [==============================] - 3s 2ms/step - loss: 0.0103 - accuracy: 7.1859e-04\n",
            "Epoch 91/100\n",
            "1394/1394 [==============================] - 3s 2ms/step - loss: 0.0116 - accuracy: 0.0046\n",
            "Epoch 92/100\n",
            "1394/1394 [==============================] - 3s 2ms/step - loss: 0.0100 - accuracy: 0.0015\n",
            "Epoch 93/100\n",
            "1394/1394 [==============================] - 3s 2ms/step - loss: 0.0101 - accuracy: 0.0035\n",
            "Epoch 94/100\n",
            "1394/1394 [==============================] - 3s 2ms/step - loss: 0.0110 - accuracy: 0.0017\n",
            "Epoch 95/100\n",
            "1394/1394 [==============================] - 3s 2ms/step - loss: 0.0100 - accuracy: 1.6897e-04\n",
            "Epoch 96/100\n",
            "1394/1394 [==============================] - 3s 2ms/step - loss: 0.0100 - accuracy: 0.0015\n",
            "Epoch 97/100\n",
            "1394/1394 [==============================] - 3s 2ms/step - loss: 0.0107 - accuracy: 0.0017\n",
            "Epoch 98/100\n",
            "1394/1394 [==============================] - 3s 2ms/step - loss: 0.0109 - accuracy: 5.1919e-04\n",
            "Epoch 99/100\n",
            "1394/1394 [==============================] - 3s 2ms/step - loss: 0.0106 - accuracy: 4.6728e-04\n",
            "Epoch 100/100\n",
            "1394/1394 [==============================] - 3s 2ms/step - loss: 0.0098 - accuracy: 0.0017\n"
          ],
          "name": "stdout"
        }
      ]
    },
    {
      "cell_type": "code",
      "metadata": {
        "colab": {
          "base_uri": "https://localhost:8080/"
        },
        "id": "Gmy_i6UwcXMB",
        "outputId": "da15663b-92f8-4139-91a3-55e44e53daff"
      },
      "source": [
        "# calculate root mean squared error\n",
        "trainScore = math.sqrt(mean_squared_error(trainY[0], trainPredict[:,0]))\n",
        "testScore = math.sqrt(mean_squared_error(testY[0], testPredict[:,0]))\n",
        "print('Train Score RMSE:',  (trainScore))\n",
        "print('Test Score RMSE: ', (testScore))\n",
        "\n",
        "trainScoreR2 = r2_score(trainY[0], trainPredict[:,0])\n",
        "testScoreR2 = r2_score(testY[0], testPredict[:,0])\n",
        "print('Train R2 Score: ', (trainScoreR2))\n",
        "print('Test R2 Score: ', (testScoreR2))\n",
        "\n",
        "trainScoreMAE = mean_absolute_error(trainY[0], trainPredict[:,0])\n",
        "testScoreMAE = mean_absolute_error(trainY[0], trainPredict[:,0])\n",
        "print('Train MAE: ', (trainScoreMAE))\n",
        "print('Test MAE: ', (testScoreMAE))\n",
        "#model.summary()\n"
      ],
      "execution_count": null,
      "outputs": [
        {
          "output_type": "stream",
          "text": [
            "Train Score RMSE: 2.0932278459198823\n",
            "Test Score RMSE:  6.255525675674543\n",
            "Train R2 Score:  0.14105018111063095\n",
            "Test R2 Score:  -1.1451283537690693\n",
            "Train MAE:  1.5915474415239261\n",
            "Test MAE:  1.5915474415239261\n"
          ],
          "name": "stdout"
        }
      ]
    },
    {
      "cell_type": "code",
      "metadata": {
        "colab": {
          "base_uri": "https://localhost:8080/",
          "height": 295
        },
        "id": "mopoPK4uEzJ6",
        "outputId": "2c28ffe4-70e5-4cf3-8d33-f64625a4a520"
      },
      "source": [
        "# shift train predictions for plotting\n",
        "trainPredictPlot = numpy.empty_like(dataset)\n",
        "trainPredictPlot[:, :] = numpy.nan\n",
        "trainPredictPlot[look_back:len(trainPredict)+look_back, :] = trainPredict\n",
        "# shift test predictions for plotting\n",
        "testPredictPlot = numpy.empty_like(dataset)\n",
        "testPredictPlot[:, :] = numpy.nan\n",
        "testPredictPlot[len(trainPredict)+(look_back*2)+1:len(dataset)-1, :] = testPredict\n",
        "\n",
        "# plot baseline and predictions\n",
        "plt.title('Primeras pruebas red LSTM Bidireccional')\n",
        "plt.plot(scaler.inverse_transform(dataset), label='Dataset')\n",
        "plt.plot(trainPredictPlot, label='Training')\n",
        "plt.plot(testPredictPlot, label='Test')\n",
        "plt.ylabel('Ruido')\n",
        "plt.xlabel('De 7:00 am a 6:59 am')\n",
        "plt.legend()\n",
        "plt.show()"
      ],
      "execution_count": null,
      "outputs": [
        {
          "output_type": "display_data",
          "data": {
            "image/png": "[encoded data removed]",
            "text/plain": [
              "<Figure size 432x288 with 1 Axes>"
            ]
          },
          "metadata": {
            "tags": [],
            "needs_background": "light"
          }
        }
      ]
    },
    {
      "cell_type": "code",
      "metadata": {
        "colab": {
          "base_uri": "https://localhost:8080/"
        },
        "id": "Aq_9HLef2m9z",
        "outputId": "73e06e7e-0b01-4855-b210-c455f9aa1cb2"
      },
      "source": [
        "varContador=61\n",
        "var1=0\n",
        "\n",
        "try:\n",
        "     hora=int(input('Introduce la hora: '))\n",
        "except ValueError:\n",
        "    print (\"Not a number\")\n",
        "\n",
        "while varContador>60:\n",
        "  try:\n",
        "     minuto=int(input('Introduce el minuto: '))\n",
        "     varContador=minuto\n",
        "  except ValueError:\n",
        "    print (\"Not a number\")\n",
        "      \n",
        "if hora==7:\n",
        "  var1=var1+minuto  \n",
        "  print(\"El ruido a esa hora fue: \",trainPredict[var1])\n",
        "elif hora>7 and (hora<=22 and minuto<=46):\n",
        "  var1=hora-7\n",
        "  var1=(var1*60)+minuto  \n",
        "  print(\"El ruido a esa hora fue: \",trainPredict[var1])\n",
        "elif hora==22 and minuto==47:\n",
        "  print(\"El ruido a esa hora fue: \",testPredict[0])\n",
        "elif (hora>=22 and minuto>47) and hora<25 :\n",
        "  var1=hora-22\n",
        "  var1=(var1*60)+minuto-48  \n",
        "  print(\"El ruido a esa hora fue: \",testPredict[var1])\n",
        "elif hora>=0 and hora<7:\n",
        "  var1=hora\n",
        "  var1=(var1*60)+minuto+68 \n",
        "  print(\"El ruido a esa hora fue: \",testPredict[var1])\n",
        "else:\n",
        "  print(\"Hora no valida \")\n",
        "\n"
      ],
      "execution_count": null,
      "outputs": [
        {
          "output_type": "stream",
          "text": [
            "Introduce la hora: 5\n",
            "Introduce el minuto: 45\n",
            "El ruido a esa hora fue:  [65.66761]\n"
          ],
          "name": "stdout"
        }
      ]
    }
  ]
}